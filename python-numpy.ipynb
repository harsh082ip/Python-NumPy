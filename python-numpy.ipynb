{
 "cells": [
  {
   "cell_type": "code",
   "execution_count": 1,
   "id": "458f3986",
   "metadata": {},
   "outputs": [],
   "source": [
    "import numpy as np"
   ]
  },
  {
   "cell_type": "markdown",
   "id": "96f35df9",
   "metadata": {},
   "source": [
    "# Numpy Basics"
   ]
  },
  {
   "cell_type": "code",
   "execution_count": 2,
   "id": "289c6301",
   "metadata": {},
   "outputs": [
    {
     "name": "stdout",
     "output_type": "stream",
     "text": [
      "[1 2 3 4]\n"
     ]
    }
   ],
   "source": [
    "a = np.array([1, 2, 3, 4])\n",
    "print(a)"
   ]
  },
  {
   "cell_type": "code",
   "execution_count": 3,
   "id": "798d9dd1",
   "metadata": {},
   "outputs": [
    {
     "name": "stdout",
     "output_type": "stream",
     "text": [
      "[[ 1  2  3  4  5]\n",
      " [ 6  7  8  9 10]]\n"
     ]
    }
   ],
   "source": [
    "b = np.array([[1, 2, 3, 4, 5], [6, 7, 8, 9, 10]])\n",
    "print(b)"
   ]
  },
  {
   "cell_type": "markdown",
   "id": "7cbf489c",
   "metadata": {},
   "source": [
    "### Get Dimension and shape"
   ]
  },
  {
   "cell_type": "code",
   "execution_count": 4,
   "id": "272c1428",
   "metadata": {},
   "outputs": [
    {
     "data": {
      "text/plain": [
       "1"
      ]
     },
     "execution_count": 4,
     "metadata": {},
     "output_type": "execute_result"
    }
   ],
   "source": [
    "a.ndim"
   ]
  },
  {
   "cell_type": "code",
   "execution_count": 5,
   "id": "0cd38bea",
   "metadata": {},
   "outputs": [
    {
     "data": {
      "text/plain": [
       "(2, 5)"
      ]
     },
     "execution_count": 5,
     "metadata": {},
     "output_type": "execute_result"
    }
   ],
   "source": [
    "b.shape"
   ]
  },
  {
   "cell_type": "markdown",
   "id": "da45b1d7",
   "metadata": {},
   "source": [
    "### Size"
   ]
  },
  {
   "cell_type": "code",
   "execution_count": 6,
   "id": "82138ad6",
   "metadata": {},
   "outputs": [
    {
     "name": "stdout",
     "output_type": "stream",
     "text": [
      "4\n",
      "int32\n"
     ]
    }
   ],
   "source": [
    "print(a.itemsize)\n",
    "print(a.dtype)\n",
    "\n",
    "# here size will be 4, coz by default dtype is int32, so 32/8 = 4"
   ]
  },
  {
   "cell_type": "markdown",
   "id": "9b24842b",
   "metadata": {},
   "source": [
    "### changing dtype"
   ]
  },
  {
   "cell_type": "code",
   "execution_count": 7,
   "id": "ebdf4749",
   "metadata": {},
   "outputs": [
    {
     "name": "stdout",
     "output_type": "stream",
     "text": [
      "2\n",
      "5\n",
      "5\n"
     ]
    }
   ],
   "source": [
    "c = np.array([1, 2, 3, 4, 5], dtype='int16')\n",
    "print(c.itemsize)\n",
    "\n",
    "# here item size will be 2, coz 16/8 = 2, \n",
    "# Remember that, c.size returns the length of the array and c.itemsize returns the actual size in bytes\n",
    "\n",
    "print(c.size)\n",
    "#or\n",
    "print(np.size(c))"
   ]
  },
  {
   "cell_type": "markdown",
   "id": "71595ca1",
   "metadata": {},
   "source": [
    "### Get total size"
   ]
  },
  {
   "cell_type": "code",
   "execution_count": 8,
   "id": "b1d85366",
   "metadata": {},
   "outputs": [
    {
     "name": "stdout",
     "output_type": "stream",
     "text": [
      "10\n",
      "10\n"
     ]
    }
   ],
   "source": [
    "# total size can be calculated as (total no items * itemsize),\n",
    "\n",
    "print(c.size * c.itemsize)\n",
    "#or\n",
    "print(c.nbytes)"
   ]
  },
  {
   "cell_type": "markdown",
   "id": "26fc5fe0",
   "metadata": {},
   "source": [
    "### Accessing/Changing specific rows, column, etc"
   ]
  },
  {
   "cell_type": "code",
   "execution_count": 9,
   "id": "61678ccd",
   "metadata": {},
   "outputs": [
    {
     "name": "stdout",
     "output_type": "stream",
     "text": [
      "[[ 1  2  3  4  5  6  7]\n",
      " [ 8  9 10 11 12 13 14]]\n"
     ]
    }
   ],
   "source": [
    "arr = np.array([[1, 2, 3, 4, 5, 6, 7], [8, 9, 10, 11, 12, 13, 14]])\n",
    "print(arr)"
   ]
  },
  {
   "cell_type": "code",
   "execution_count": 10,
   "id": "5dc996b8",
   "metadata": {},
   "outputs": [
    {
     "name": "stdout",
     "output_type": "stream",
     "text": [
      "10\n"
     ]
    }
   ],
   "source": [
    "# get a specific element [r, c]\n",
    "print(arr[1, 2])"
   ]
  },
  {
   "cell_type": "code",
   "execution_count": 11,
   "id": "6111eb9a",
   "metadata": {},
   "outputs": [
    {
     "name": "stdout",
     "output_type": "stream",
     "text": [
      "[1 2 3 4 5 6 7]\n"
     ]
    }
   ],
   "source": [
    "# get a specific row\n",
    "print(arr[0, :])\n",
    "\n",
    "# using : prints every element in that rowb"
   ]
  },
  {
   "cell_type": "code",
   "execution_count": 12,
   "id": "85f08b09",
   "metadata": {},
   "outputs": [
    {
     "name": "stdout",
     "output_type": "stream",
     "text": [
      "[ 4 11]\n"
     ]
    }
   ],
   "source": [
    "# get a specific column\n",
    "print(arr[:, 3])"
   ]
  },
  {
   "cell_type": "code",
   "execution_count": 13,
   "id": "ed6dd2cb",
   "metadata": {},
   "outputs": [
    {
     "name": "stdout",
     "output_type": "stream",
     "text": [
      "[2 4 6]\n"
     ]
    }
   ],
   "source": [
    "# [startindex:endindex:stepsize]\n",
    "print(arr[0, 1:-1:2])"
   ]
  },
  {
   "cell_type": "code",
   "execution_count": 14,
   "id": "f71c0f4e",
   "metadata": {},
   "outputs": [
    {
     "name": "stdout",
     "output_type": "stream",
     "text": [
      "[[ 1  2  3 23  5  6  7]\n",
      " [ 8  9 10 11 12 13 14]]\n",
      "[[ 1  2  3 23  5  6  7]\n",
      " [ 8  9  3 11 12 13 14]]\n",
      "[[ 1  2 13 23  5  6  7]\n",
      " [ 8  9 14 11 12 13 14]]\n",
      "[[ 1  2 13 23  5  6  7]\n",
      " [17 17 17 17 17 17 17]]\n",
      "[[ 1  2 13 23  5  6  7]\n",
      " [21 22 23 24 25 26 27]]\n"
     ]
    }
   ],
   "source": [
    "# changing an element\n",
    "arr[0, 3] = 23\n",
    "print(arr)\n",
    "\n",
    "\n",
    "# changing a particular column\n",
    "arr[:, 2] = 3\n",
    "print(arr)\n",
    "# or\n",
    "arr[:, 2] = [13, 14]\n",
    "print(arr)\n",
    "\n",
    "\n",
    "# changing a particular row\n",
    "arr[1, :] = 17\n",
    "print(arr)\n",
    "# or\n",
    "arr[1, :] = [21, 22, 23, 24, 25, 26, 27]\n",
    "print(arr)"
   ]
  },
  {
   "cell_type": "markdown",
   "id": "eb15132c",
   "metadata": {},
   "source": [
    "### 3d example"
   ]
  },
  {
   "cell_type": "code",
   "execution_count": 15,
   "id": "47b39678",
   "metadata": {
    "scrolled": true
   },
   "outputs": [
    {
     "name": "stdout",
     "output_type": "stream",
     "text": [
      "[[[1 2]\n",
      "  [3 4]]\n",
      "\n",
      " [[5 6]\n",
      "  [7 8]]]\n"
     ]
    }
   ],
   "source": [
    "# creating a 3d array\n",
    "arr2 = np.array([ [[1,2], [3,4]], [[5,6], [7,8]] ])\n",
    "print(arr2)"
   ]
  },
  {
   "cell_type": "code",
   "execution_count": 19,
   "id": "80eace16",
   "metadata": {},
   "outputs": [
    {
     "name": "stdout",
     "output_type": "stream",
     "text": [
      "4\n"
     ]
    },
    {
     "data": {
      "text/plain": [
       "array([[1, 2],\n",
       "       [5, 6]])"
      ]
     },
     "execution_count": 19,
     "metadata": {},
     "output_type": "execute_result"
    }
   ],
   "source": [
    "# accessing an element\n",
    "print(arr2[0, 1, 1])\n",
    "arr2[:, 0, :]"
   ]
  },
  {
   "cell_type": "code",
   "execution_count": 25,
   "id": "1a1000a5",
   "metadata": {},
   "outputs": [],
   "source": [
    "# replace\n",
    "arr2[:, 1, :] = [[9, 9], [8, 8]]"
   ]
  },
  {
   "cell_type": "code",
   "execution_count": 26,
   "id": "3ac7050b",
   "metadata": {},
   "outputs": [
    {
     "data": {
      "text/plain": [
       "array([[[1, 2],\n",
       "        [9, 9]],\n",
       "\n",
       "       [[5, 6],\n",
       "        [8, 8]]])"
      ]
     },
     "execution_count": 26,
     "metadata": {},
     "output_type": "execute_result"
    }
   ],
   "source": [
    "arr2"
   ]
  },
  {
   "cell_type": "markdown",
   "id": "c2ba5809",
   "metadata": {},
   "source": [
    "### Initializing different Types of Arrays"
   ]
  },
  {
   "cell_type": "code",
   "execution_count": 27,
   "id": "1cd54013",
   "metadata": {},
   "outputs": [
    {
     "data": {
      "text/plain": [
       "array([[0., 0., 0., 0., 0.],\n",
       "       [0., 0., 0., 0., 0.]])"
      ]
     },
     "execution_count": 27,
     "metadata": {},
     "output_type": "execute_result"
    }
   ],
   "source": [
    "# All 0's matrix\n",
    "np.zeros((2,5))"
   ]
  },
  {
   "cell_type": "code",
   "execution_count": 29,
   "id": "2331579f",
   "metadata": {},
   "outputs": [
    {
     "data": {
      "text/plain": [
       "array([[1, 1, 1, 1],\n",
       "       [1, 1, 1, 1],\n",
       "       [1, 1, 1, 1],\n",
       "       [1, 1, 1, 1],\n",
       "       [1, 1, 1, 1]])"
      ]
     },
     "execution_count": 29,
     "metadata": {},
     "output_type": "execute_result"
    }
   ],
   "source": [
    "# All 1's matrix\n",
    "np.ones((5,4), dtype='int32')"
   ]
  },
  {
   "cell_type": "code",
   "execution_count": 31,
   "id": "f835dd44",
   "metadata": {},
   "outputs": [
    {
     "data": {
      "text/plain": [
       "array([[65, 65, 65, 65, 65, 65, 65, 65],\n",
       "       [65, 65, 65, 65, 65, 65, 65, 65],\n",
       "       [65, 65, 65, 65, 65, 65, 65, 65],\n",
       "       [65, 65, 65, 65, 65, 65, 65, 65]])"
      ]
     },
     "execution_count": 31,
     "metadata": {},
     "output_type": "execute_result"
    }
   ],
   "source": [
    "# Any other number\n",
    "np.full((4,8), 65)"
   ]
  },
  {
   "cell_type": "code",
   "execution_count": 36,
   "id": "331a3dfd",
   "metadata": {},
   "outputs": [
    {
     "data": {
      "text/plain": [
       "array([[[4, 4],\n",
       "        [4, 4]],\n",
       "\n",
       "       [[4, 4],\n",
       "        [4, 4]]])"
      ]
     },
     "execution_count": 36,
     "metadata": {},
     "output_type": "execute_result"
    }
   ],
   "source": [
    "# Any other number(full_like)\n",
    "np.full_like(arr2, 4)\n",
    "\n",
    "# it takes shapes of a already predefined array, here it is arr2\n",
    "\n"
   ]
  },
  {
   "cell_type": "code",
   "execution_count": 77,
   "id": "af3842a6",
   "metadata": {},
   "outputs": [
    {
     "name": "stdout",
     "output_type": "stream",
     "text": [
      "[[0.62536639 0.85555959 0.58174906 0.50477783]\n",
      " [0.36033425 0.15781284 0.29517916 0.42148633]]\n",
      "--------------\n",
      "[[[0.71642649 0.94253914]\n",
      "  [0.56495566 0.32694453]]\n",
      "\n",
      " [[0.67240476 0.40508843]\n",
      "  [0.01018926 0.79127766]]]\n"
     ]
    }
   ],
   "source": [
    "# Random Decimal Numbers\n",
    "t = np.random.rand(2, 4)\n",
    "print(t)\n",
    "\n",
    "print('--------------')\n",
    "# passing a shape\n",
    "t1 = np.random.random_sample(arr2.shape)\n",
    "print(t1)"
   ]
  },
  {
   "cell_type": "code",
   "execution_count": 72,
   "id": "7b244d5a",
   "metadata": {},
   "outputs": [
    {
     "name": "stdout",
     "output_type": "stream",
     "text": [
      "[[-7  5  7]\n",
      " [-3  0 -7]\n",
      " [ 2 -5  5]]\n"
     ]
    }
   ],
   "source": [
    "# Random Integer values\n",
    "np.random.randint(30, size= (2,4))\n",
    "\n",
    "# 1st argument is maximum value, and 2nd is size\n",
    "\n",
    "# or (with startindex and endindex)\n",
    "arr4 = np.random.randint(-8, 8, size=(3, 3))  # here 8 is exclusive\n",
    "print(arr4)"
   ]
  },
  {
   "cell_type": "code",
   "execution_count": 84,
   "id": "b52127de",
   "metadata": {},
   "outputs": [
    {
     "data": {
      "text/plain": [
       "array([[1., 0., 0., 0., 0., 0., 0., 0.],\n",
       "       [0., 1., 0., 0., 0., 0., 0., 0.],\n",
       "       [0., 0., 1., 0., 0., 0., 0., 0.],\n",
       "       [0., 0., 0., 1., 0., 0., 0., 0.],\n",
       "       [0., 0., 0., 0., 1., 0., 0., 0.],\n",
       "       [0., 0., 0., 0., 0., 1., 0., 0.],\n",
       "       [0., 0., 0., 0., 0., 0., 1., 0.],\n",
       "       [0., 0., 0., 0., 0., 0., 0., 1.]])"
      ]
     },
     "execution_count": 84,
     "metadata": {},
     "output_type": "execute_result"
    }
   ],
   "source": [
    "# Identity Matrix\n",
    "np.identity(8)\n"
   ]
  },
  {
   "cell_type": "code",
   "execution_count": 137,
   "id": "b36123f1",
   "metadata": {},
   "outputs": [
    {
     "name": "stdout",
     "output_type": "stream",
     "text": [
      "[1 1 1 2 2 2 3 3 3 4 4 4]\n",
      "[[1 2 3]\n",
      " [1 2 3]\n",
      " [1 2 3]]\n"
     ]
    }
   ],
   "source": [
    "# Repeat an array\n",
    "arr = np.array([1, 2, 3, 4])\n",
    "rep = np.repeat(arr, 3)\n",
    "print(rep)\n",
    "\n",
    "## on 2d array\n",
    "arr = np.array([[1, 2, 3]])\n",
    "res = np.repeat(arr, 3, axis=0)\n",
    "print(res)"
   ]
  },
  {
   "cell_type": "markdown",
   "id": "7ea9e2f9",
   "metadata": {},
   "source": [
    "### Question:- Print this Array 👇"
   ]
  },
  {
   "cell_type": "markdown",
   "id": "49045d3e",
   "metadata": {},
   "source": [
    "![](ques1.png)\n"
   ]
  },
  {
   "cell_type": "code",
   "execution_count": 155,
   "id": "46f26f97",
   "metadata": {
    "scrolled": true
   },
   "outputs": [
    {
     "name": "stdout",
     "output_type": "stream",
     "text": [
      "[[1. 1. 1. 1. 1.]\n",
      " [1. 1. 1. 1. 1.]\n",
      " [1. 1. 1. 1. 1.]\n",
      " [1. 1. 1. 1. 1.]\n",
      " [1. 1. 1. 1. 1.]]\n",
      "[[0. 0. 0.]\n",
      " [0. 9. 0.]\n",
      " [0. 0. 0.]]\n",
      "[[1. 1. 1. 1. 1.]\n",
      " [1. 0. 0. 0. 1.]\n",
      " [1. 0. 9. 0. 1.]\n",
      " [1. 0. 0. 0. 1.]\n",
      " [1. 1. 1. 1. 1.]]\n",
      "[[1. 1. 1. 1. 1.]\n",
      " [1. 0. 0. 0. 1.]\n",
      " [1. 0. 9. 0. 1.]\n",
      " [1. 0. 0. 0. 1.]\n",
      " [1. 1. 1. 1. 1.]]\n"
     ]
    }
   ],
   "source": [
    "# Solution\n",
    "output = np.ones((5, 5))\n",
    "print(output)\n",
    "\n",
    "z = np.zeros((3, 3))\n",
    "z[1, 1] = 9\n",
    "print(z)\n",
    "\n",
    "output[1:4, 1:4] = z\n",
    "print(output)\n",
    "#or\n",
    "output[1:-1, 1:-1] = z\n",
    "print(output)"
   ]
  },
  {
   "cell_type": "markdown",
   "id": "0e38c93d",
   "metadata": {},
   "source": [
    "   # 💀Be Careful while copying Arrays!!!💀"
   ]
  },
  {
   "cell_type": "markdown",
   "id": "d6f2b9da",
   "metadata": {},
   "source": [
    "### Context👇👇"
   ]
  },
  {
   "cell_type": "code",
   "execution_count": 158,
   "id": "11d451a6",
   "metadata": {},
   "outputs": [
    {
     "name": "stdout",
     "output_type": "stream",
     "text": [
      "[ 1 65  3]\n",
      "[1 2 3]\n",
      "[ 1 45  3]\n"
     ]
    }
   ],
   "source": [
    "a = np.array([1, 2, 3])\n",
    "b = a\n",
    "# here b array is just pointing to a, it is not copied\n",
    "b[1] = 65\n",
    "# value of a is also getting changed\n",
    "print(a)\n",
    "\n",
    "# To prevent this we will use .copy() method\n",
    "c = np.array([1, 2, 3])\n",
    "d = c.copy()\n",
    "d[1] = 45\n",
    "print(c)\n",
    "print(d)"
   ]
  }
 ],
 "metadata": {
  "kernelspec": {
   "display_name": "Python 3 (ipykernel)",
   "language": "python",
   "name": "python3"
  },
  "language_info": {
   "codemirror_mode": {
    "name": "ipython",
    "version": 3
   },
   "file_extension": ".py",
   "mimetype": "text/x-python",
   "name": "python",
   "nbconvert_exporter": "python",
   "pygments_lexer": "ipython3",
   "version": "3.11.3"
  }
 },
 "nbformat": 4,
 "nbformat_minor": 5
}
