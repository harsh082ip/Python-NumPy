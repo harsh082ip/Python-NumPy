{
 "cells": [
  {
   "cell_type": "code",
   "execution_count": 1,
   "id": "458f3986",
   "metadata": {},
   "outputs": [],
   "source": [
    "import numpy as np"
   ]
  },
  {
   "cell_type": "markdown",
   "id": "96f35df9",
   "metadata": {},
   "source": [
    "# Numpy Basics"
   ]
  },
  {
   "cell_type": "code",
   "execution_count": 2,
   "id": "289c6301",
   "metadata": {},
   "outputs": [
    {
     "name": "stdout",
     "output_type": "stream",
     "text": [
      "[1 2 3 4]\n"
     ]
    }
   ],
   "source": [
    "a = np.array([1, 2, 3, 4])\n",
    "print(a)"
   ]
  },
  {
   "cell_type": "code",
   "execution_count": 3,
   "id": "798d9dd1",
   "metadata": {},
   "outputs": [
    {
     "name": "stdout",
     "output_type": "stream",
     "text": [
      "[[ 1  2  3  4  5]\n",
      " [ 6  7  8  9 10]]\n"
     ]
    }
   ],
   "source": [
    "b = np.array([[1, 2, 3, 4, 5], [6, 7, 8, 9, 10]])\n",
    "print(b)"
   ]
  },
  {
   "cell_type": "markdown",
   "id": "7cbf489c",
   "metadata": {},
   "source": [
    "### Get Dimension and shape"
   ]
  },
  {
   "cell_type": "code",
   "execution_count": 4,
   "id": "272c1428",
   "metadata": {},
   "outputs": [
    {
     "data": {
      "text/plain": [
       "1"
      ]
     },
     "execution_count": 4,
     "metadata": {},
     "output_type": "execute_result"
    }
   ],
   "source": [
    "a.ndim"
   ]
  },
  {
   "cell_type": "code",
   "execution_count": 5,
   "id": "0cd38bea",
   "metadata": {},
   "outputs": [
    {
     "data": {
      "text/plain": [
       "(2, 5)"
      ]
     },
     "execution_count": 5,
     "metadata": {},
     "output_type": "execute_result"
    }
   ],
   "source": [
    "b.shape"
   ]
  },
  {
   "cell_type": "markdown",
   "id": "da45b1d7",
   "metadata": {},
   "source": [
    "### Size"
   ]
  },
  {
   "cell_type": "code",
   "execution_count": 6,
   "id": "82138ad6",
   "metadata": {},
   "outputs": [
    {
     "name": "stdout",
     "output_type": "stream",
     "text": [
      "4\n",
      "int32\n"
     ]
    }
   ],
   "source": [
    "print(a.itemsize)\n",
    "print(a.dtype)\n",
    "\n",
    "# here size will be 4, coz by default dtype is int32, so 32/8 = 4"
   ]
  },
  {
   "cell_type": "markdown",
   "id": "9b24842b",
   "metadata": {},
   "source": [
    "### changing dtype"
   ]
  },
  {
   "cell_type": "code",
   "execution_count": 7,
   "id": "ebdf4749",
   "metadata": {},
   "outputs": [
    {
     "name": "stdout",
     "output_type": "stream",
     "text": [
      "2\n",
      "5\n",
      "5\n"
     ]
    }
   ],
   "source": [
    "c = np.array([1, 2, 3, 4, 5], dtype='int16')\n",
    "print(c.itemsize)\n",
    "\n",
    "# here item size will be 2, coz 16/8 = 2, \n",
    "# Remember that, c.size returns the length of the array and c.itemsize returns the actual size in bytes\n",
    "\n",
    "print(c.size)\n",
    "#or\n",
    "print(np.size(c))"
   ]
  },
  {
   "cell_type": "markdown",
   "id": "71595ca1",
   "metadata": {},
   "source": [
    "### Get total size"
   ]
  },
  {
   "cell_type": "code",
   "execution_count": 8,
   "id": "b1d85366",
   "metadata": {},
   "outputs": [
    {
     "name": "stdout",
     "output_type": "stream",
     "text": [
      "10\n",
      "10\n"
     ]
    }
   ],
   "source": [
    "# total size can be calculated as (total no items * itemsize),\n",
    "\n",
    "print(c.size * c.itemsize)\n",
    "#or\n",
    "print(c.nbytes)"
   ]
  },
  {
   "cell_type": "markdown",
   "id": "26fc5fe0",
   "metadata": {},
   "source": [
    "### Accessing/Changing specific rows, column, etc"
   ]
  },
  {
   "cell_type": "code",
   "execution_count": 9,
   "id": "61678ccd",
   "metadata": {},
   "outputs": [
    {
     "name": "stdout",
     "output_type": "stream",
     "text": [
      "[[ 1  2  3  4  5  6  7]\n",
      " [ 8  9 10 11 12 13 14]]\n"
     ]
    }
   ],
   "source": [
    "arr = np.array([[1, 2, 3, 4, 5, 6, 7], [8, 9, 10, 11, 12, 13, 14]])\n",
    "print(arr)"
   ]
  },
  {
   "cell_type": "code",
   "execution_count": 10,
   "id": "5dc996b8",
   "metadata": {},
   "outputs": [
    {
     "name": "stdout",
     "output_type": "stream",
     "text": [
      "10\n"
     ]
    }
   ],
   "source": [
    "# get a specific element [r, c]\n",
    "print(arr[1, 2])"
   ]
  },
  {
   "cell_type": "code",
   "execution_count": 11,
   "id": "6111eb9a",
   "metadata": {},
   "outputs": [
    {
     "name": "stdout",
     "output_type": "stream",
     "text": [
      "[1 2 3 4 5 6 7]\n"
     ]
    }
   ],
   "source": [
    "# get a specific row\n",
    "print(arr[0, :])\n",
    "\n",
    "# using : prints every element in that rowb"
   ]
  },
  {
   "cell_type": "code",
   "execution_count": 12,
   "id": "85f08b09",
   "metadata": {},
   "outputs": [
    {
     "name": "stdout",
     "output_type": "stream",
     "text": [
      "[ 4 11]\n"
     ]
    }
   ],
   "source": [
    "# get a specific column\n",
    "print(arr[:, 3])"
   ]
  },
  {
   "cell_type": "code",
   "execution_count": 15,
   "id": "ed6dd2cb",
   "metadata": {},
   "outputs": [
    {
     "name": "stdout",
     "output_type": "stream",
     "text": [
      "[ 2 23  6]\n"
     ]
    }
   ],
   "source": [
    "# [startindex:endindex:stepsize]\n",
    "print(arr[0, 1:-1:2])"
   ]
  },
  {
   "cell_type": "code",
   "execution_count": 17,
   "id": "f71c0f4e",
   "metadata": {},
   "outputs": [
    {
     "name": "stdout",
     "output_type": "stream",
     "text": [
      "[[ 1  2  3 23  5  6  7]\n",
      " [ 8  9  3 11 12 13 14]]\n",
      "[[ 1  2  3 23  5  6  7]\n",
      " [ 8  9  3 11 12 13 14]]\n",
      "[[ 1  2 13 23  5  6  7]\n",
      " [ 8  9 14 11 12 13 14]]\n"
     ]
    }
   ],
   "source": [
    "# changing an element\n",
    "arr[0, 3] = 23\n",
    "print(arr)\n",
    "\n",
    "# changing a particular column\n",
    "arr[:, 2] = 3\n",
    "print(arr)\n",
    "# or\n",
    "arr[:, 2] = [13, 14]\n",
    "print(arr)\n",
    "\n"
   ]
  },
  {
   "cell_type": "code",
   "execution_count": null,
   "id": "fe50fc8d",
   "metadata": {},
   "outputs": [],
   "source": []
  },
  {
   "cell_type": "code",
   "execution_count": null,
   "id": "3b9b87c1",
   "metadata": {},
   "outputs": [],
   "source": []
  },
  {
   "cell_type": "code",
   "execution_count": null,
   "id": "49f3e3db",
   "metadata": {},
   "outputs": [],
   "source": []
  },
  {
   "cell_type": "code",
   "execution_count": null,
   "id": "29e7588f",
   "metadata": {},
   "outputs": [],
   "source": []
  }
 ],
 "metadata": {
  "kernelspec": {
   "display_name": "Python 3 (ipykernel)",
   "language": "python",
   "name": "python3"
  },
  "language_info": {
   "codemirror_mode": {
    "name": "ipython",
    "version": 3
   },
   "file_extension": ".py",
   "mimetype": "text/x-python",
   "name": "python",
   "nbconvert_exporter": "python",
   "pygments_lexer": "ipython3",
   "version": "3.11.3"
  }
 },
 "nbformat": 4,
 "nbformat_minor": 5
}
